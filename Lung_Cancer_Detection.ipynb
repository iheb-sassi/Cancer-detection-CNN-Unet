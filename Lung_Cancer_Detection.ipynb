{
 "cells": [
  {
   "cell_type": "raw",
   "id": "55b41dc5-73da-41d8-8b6a-491b0e56637a",
   "metadata": {},
   "source": [
    "1. Install Dependencies and Setup"
   ]
  },
  {
   "cell_type": "code",
   "execution_count": null,
   "id": "a5532242-3bfa-4da7-8828-2ae8a7dc8f83",
   "metadata": {
    "tags": []
   },
   "outputs": [],
   "source": [
    "!pip install tensorflow opencv-python matplotlib"
   ]
  },
  {
   "cell_type": "code",
   "execution_count": null,
   "id": "3261e224-3319-4ff3-af4e-8fabb54ce207",
   "metadata": {},
   "outputs": [],
   "source": [
    "!pip install tf-keras"
   ]
  },
  {
   "cell_type": "code",
   "execution_count": null,
   "id": "0aee672a-3e16-4300-a9d0-c24968a9f5cb",
   "metadata": {
    "tags": []
   },
   "outputs": [],
   "source": [
    "!pip list"
   ]
  },
  {
   "cell_type": "code",
   "execution_count": null,
   "id": "5c749522-4c07-4e91-ba95-eb0b0cc1c437",
   "metadata": {},
   "outputs": [],
   "source": [
    "import tensorflow as tf\n",
    "import os"
   ]
  },
  {
   "cell_type": "code",
   "execution_count": null,
   "id": "730f45ce-9cc5-468a-93bd-206f3a2e529f",
   "metadata": {},
   "outputs": [],
   "source": [
    "# Avoid OOM errors by setting GPU Memory Consumption Growth\n",
    "gpus = tf.config.experimental.list_physical_devices('GPU')\n",
    "for gpu in gpus: \n",
    "    tf.config.experimental.set_memory_growth(gpu, True)"
   ]
  },
  {
   "cell_type": "code",
   "execution_count": null,
   "id": "c09f736f-10d4-4593-b4a5-21f8443003d3",
   "metadata": {},
   "outputs": [],
   "source": [
    "tf.config.list_physical_devices('GPU')"
   ]
  },
  {
   "cell_type": "raw",
   "id": "ccaf808a-9ff6-4d7d-a79f-4e8e7dca61c9",
   "metadata": {},
   "source": [
    "2. Remove dodgy images"
   ]
  },
  {
   "cell_type": "code",
   "execution_count": null,
   "id": "620a0790-c052-4569-a407-a11942210693",
   "metadata": {},
   "outputs": [],
   "source": [
    "import cv2\n",
    "import imghdr"
   ]
  },
  {
   "cell_type": "code",
   "execution_count": null,
   "id": "bd350dde-e093-480b-8e96-1df30423e227",
   "metadata": {},
   "outputs": [],
   "source": [
    "data_dir = 'data' "
   ]
  },
  {
   "cell_type": "code",
   "execution_count": null,
   "id": "d6973cb3-aa12-449e-a55b-86fe0834aadb",
   "metadata": {
    "tags": []
   },
   "outputs": [],
   "source": [
    "image_exts = ['jpeg','jpg', 'bmp', 'png']"
   ]
  },
  {
   "cell_type": "code",
   "execution_count": null,
   "id": "e764da01-362d-4f2f-ad4d-da0157f8a60d",
   "metadata": {},
   "outputs": [],
   "source": [
    "for image_class in os.listdir(data_dir): \n",
    "    for image in os.listdir(os.path.join(data_dir, image_class)):\n",
    "        image_path = os.path.join(data_dir, image_class, image)\n",
    "        try: \n",
    "            img = cv2.imread(image_path)\n",
    "            tip = imghdr.what(image_path)\n",
    "            if tip not in image_exts: \n",
    "                print('Image not in ext list {}'.format(image_path))\n",
    "                os.remove(image_path)\n",
    "        except Exception as e: \n",
    "            print('Issue with image {}'.format(image_path))\n",
    "            # os.remove(image_path)"
   ]
  },
  {
   "cell_type": "raw",
   "id": "d25e2c3c-3220-44bd-96c0-6390f7c8b80d",
   "metadata": {},
   "source": [
    "3. Load Data"
   ]
  },
  {
   "cell_type": "code",
   "execution_count": null,
   "id": "958414a0-35e5-4fed-a9cf-e5f09cfc212b",
   "metadata": {},
   "outputs": [],
   "source": [
    "import numpy as np\n",
    "from matplotlib import pyplot as plt"
   ]
  },
  {
   "cell_type": "code",
   "execution_count": null,
   "id": "a6811a6d-9fd1-4e9c-b25f-a70c286e1519",
   "metadata": {},
   "outputs": [],
   "source": [
    "data = tf.keras.utils.image_dataset_from_directory('data')"
   ]
  },
  {
   "cell_type": "code",
   "execution_count": null,
   "id": "c4596763-2f18-4bcb-9c2f-5bf6667548e6",
   "metadata": {},
   "outputs": [],
   "source": [
    "data_iterator = data.as_numpy_iterator()"
   ]
  },
  {
   "cell_type": "code",
   "execution_count": null,
   "id": "94535851-a1ee-4080-8f55-328d6fe0e2a2",
   "metadata": {},
   "outputs": [],
   "source": [
    "batch = data_iterator.next()"
   ]
  },
  {
   "cell_type": "code",
   "execution_count": null,
   "id": "1cb177fa-6435-4d0a-9066-e7fcf9635932",
   "metadata": {},
   "outputs": [],
   "source": [
    "fig, ax = plt.subplots(ncols=4, figsize=(20,20))\n",
    "for idx, img in enumerate(batch[0][:4]):\n",
    "    ax[idx].imshow(img.astype(int))\n",
    "    ax[idx].title.set_text(batch[1][idx])"
   ]
  },
  {
   "cell_type": "code",
   "execution_count": null,
   "id": "c8ad610e-686e-44e3-8fb9-ffab9bbf92c6",
   "metadata": {},
   "outputs": [],
   "source": [
    "batch[0].shape"
   ]
  },
  {
   "cell_type": "code",
   "execution_count": null,
   "id": "581673a2-e0e1-4cf9-a251-55112e0e1c59",
   "metadata": {},
   "outputs": [],
   "source": [
    "#Data Augmentation\n",
    "data_augmentation = tf.keras.Sequential([\n",
    "    tf.keras.layers.RandomFlip('horizontal_and_vertical'),\n",
    "    tf.keras.layers.RandomRotation(0.2),\n",
    "    tf.keras.layers.RandomZoom(0.2, 0.2)\n",
    "])\n",
    "\n",
    "data = data.map(lambda x, y: (data_augmentation(x), y))"
   ]
  },
  {
   "cell_type": "raw",
   "id": "0c1df5b6-71ba-4ae0-bcfb-b7705ef91516",
   "metadata": {},
   "source": [
    "4. Scale Data"
   ]
  },
  {
   "cell_type": "code",
   "execution_count": null,
   "id": "48840b07-da52-4fdd-aeb2-c560e6589b2d",
   "metadata": {},
   "outputs": [],
   "source": [
    "data = data.map(lambda x,y: (x/255, y))"
   ]
  },
  {
   "cell_type": "code",
   "execution_count": null,
   "id": "f267a3bd-fd50-4d05-ae20-da15301e7e5e",
   "metadata": {
    "tags": []
   },
   "outputs": [],
   "source": [
    "data.as_numpy_iterator().next()"
   ]
  },
  {
   "cell_type": "code",
   "execution_count": null,
   "id": "b55092f8-1553-4425-a098-741ab7ad976f",
   "metadata": {},
   "outputs": [],
   "source": [
    "batch[0].max()"
   ]
  },
  {
   "cell_type": "raw",
   "id": "d20b96b6-4a42-4074-a3fd-0e49a0705b4b",
   "metadata": {},
   "source": [
    "5. Split Data"
   ]
  },
  {
   "cell_type": "code",
   "execution_count": null,
   "id": "626dbf93-09e2-4af4-98ef-e5484aa503b0",
   "metadata": {},
   "outputs": [],
   "source": [
    "train_size = int(len(data)*.7)\n",
    "val_size = int(len(data)*.2)\n",
    "test_size = int(len(data)*.1)"
   ]
  },
  {
   "cell_type": "code",
   "execution_count": null,
   "id": "fc1dbd3d-821a-4eb2-b68e-07b14b0cca4f",
   "metadata": {},
   "outputs": [],
   "source": [
    "train_size"
   ]
  },
  {
   "cell_type": "code",
   "execution_count": null,
   "id": "701410d7-60ac-416a-b410-9d7a19ff5e79",
   "metadata": {},
   "outputs": [],
   "source": [
    "train = data.take(train_size)\n",
    "val = data.skip(train_size).take(val_size)\n",
    "test = data.skip(train_size+val_size).take(test_size)"
   ]
  },
  {
   "cell_type": "raw",
   "id": "b7d32d4d-fefa-4c8f-b5fb-0ebb75b080a2",
   "metadata": {},
   "source": [
    "6. Build Deep Learning Model"
   ]
  },
  {
   "cell_type": "code",
   "execution_count": null,
   "id": "32870fd0-f33d-4c10-bcff-c80653af48df",
   "metadata": {},
   "outputs": [],
   "source": [
    "from tensorflow.keras.models import Sequential\n",
    "from tensorflow.keras.layers import Conv2D, MaxPooling2D, Dense, Flatten, Dropout"
   ]
  },
  {
   "cell_type": "code",
   "execution_count": null,
   "id": "e3dd423b-0fb8-4240-9008-351930fe60c1",
   "metadata": {
    "tags": []
   },
   "outputs": [],
   "source": [
    "model = Sequential()"
   ]
  },
  {
   "cell_type": "code",
   "execution_count": null,
   "id": "71fc3cb6-da48-4c8b-aed5-0bd7ad26c1cf",
   "metadata": {},
   "outputs": [],
   "source": [
    "model.add(Conv2D(16, (3,3), 1, activation='relu', input_shape=(256,256,3)))\n",
    "model.add(MaxPooling2D())\n",
    "model.add(Conv2D(32, (3,3), 1, activation='relu'))\n",
    "model.add(MaxPooling2D())\n",
    "model.add(Conv2D(16, (3,3), 1, activation='relu'))\n",
    "model.add(MaxPooling2D())\n",
    "model.add(Flatten())\n",
    "model.add(Dense(256, activation='relu'))\n",
    "model.add(Dense(1, activation='sigmoid'))"
   ]
  },
  {
   "cell_type": "code",
   "execution_count": null,
   "id": "439ba646-9eb5-46b1-80af-1eb9be1597bf",
   "metadata": {},
   "outputs": [],
   "source": [
    "model.compile('adam', loss=tf.losses.BinaryCrossentropy(), metrics=['accuracy'])"
   ]
  },
  {
   "cell_type": "code",
   "execution_count": null,
   "id": "1a202694-e363-48c7-b9c0-55cb912938e3",
   "metadata": {},
   "outputs": [],
   "source": [
    "model.summary()"
   ]
  },
  {
   "cell_type": "code",
   "execution_count": null,
   "id": "b40d650b-e6e7-4100-9c8d-3e8ee9995ec1",
   "metadata": {},
   "outputs": [],
   "source": [
    "#Regularization\n",
    "#model.add(tf.keras.layers.Dense(256, activation='relu', kernel_regularizer=tf.keras.regularizers.l2(0.01)))\n",
    "#model.add(tf.keras.layers.Dropout(0.2))"
   ]
  },
  {
   "cell_type": "raw",
   "id": "43c3a33d-f84e-44ff-8cf1-4d533d390705",
   "metadata": {},
   "source": [
    "7. Train"
   ]
  },
  {
   "cell_type": "code",
   "execution_count": null,
   "id": "904798c0-712a-4ebd-9fd5-1acddd9b4194",
   "metadata": {},
   "outputs": [],
   "source": [
    "logdir='logs'"
   ]
  },
  {
   "cell_type": "code",
   "execution_count": null,
   "id": "d181a6e1-1c63-48cc-bc4f-8402cca2355d",
   "metadata": {},
   "outputs": [],
   "source": [
    "tensorboard_callback = tf.keras.callbacks.TensorBoard(log_dir=logdir)"
   ]
  },
  {
   "cell_type": "code",
   "execution_count": null,
   "id": "812cce5b-8cde-4170-8a73-1a3532d48dee",
   "metadata": {},
   "outputs": [],
   "source": [
    "hist = model.fit(train, epochs=20, validation_data=val, callbacks=[tensorboard_callback])"
   ]
  },
  {
   "cell_type": "code",
   "execution_count": null,
   "id": "c787ad80-2b24-41bf-be64-dea191af162d",
   "metadata": {},
   "outputs": [],
   "source": [
    "#Hyperparameter Tuning\n",
    "from tf.keras.wrappers.scikit_learn import KerasClassifier\n",
    "from sklearn.model_selection import GridSearchCV\n",
    "\n",
    "param_grid = {'batch_size': [32, 64, 128], 'epochs': [10, 20, 30]}\n",
    "grid_search = GridSearchCV(KerasClassifier(build_fn=model), param_grid, cv=5)\n",
    "grid_search.fit(train)\n",
    "print(grid_search.best_params_)\n",
    "print(grid_search.best_score_)"
   ]
  },
  {
   "cell_type": "code",
   "execution_count": null,
   "id": "8fa51b5f-1fc0-48ff-b5fd-1c3d25f91b85",
   "metadata": {},
   "outputs": [],
   "source": [
    "#Ensemble Methods\n",
    "from tf.keras.ensemble import VotingClassifier\n",
    "\n",
    "model1 = tf.keras.Model(inputs=base_model.input, outputs=x)\n",
    "model2 = tf.keras.Model(inputs=base_model.input, outputs=x)\n",
    "model3 = tf.keras.Model(inputs=base_model.input, outputs=x)\n",
    "\n",
    "ensemble_model = VotingClassifier(estimators=[model1, model2, model3], voting='soft')"
   ]
  },
  {
   "cell_type": "raw",
   "id": "c4bd32eb-54ba-43e2-9cc6-390b1cac87a9",
   "metadata": {},
   "source": [
    "8. Plot Performance"
   ]
  },
  {
   "cell_type": "code",
   "execution_count": null,
   "id": "226a7bfb-68d4-422a-b116-83dfb3b1da39",
   "metadata": {},
   "outputs": [],
   "source": [
    "fig = plt.figure()\n",
    "plt.plot(hist.history['loss'], color='teal', label='loss')\n",
    "plt.plot(hist.history['val_loss'], color='orange', label='val_loss')\n",
    "fig.suptitle('Loss', fontsize=20)\n",
    "plt.legend(loc=\"upper left\")\n",
    "plt.show()"
   ]
  },
  {
   "cell_type": "code",
   "execution_count": null,
   "id": "66c78c69-354a-47bd-89e1-23a7b6a72d6b",
   "metadata": {},
   "outputs": [],
   "source": [
    "fig = plt.figure()\n",
    "plt.plot(hist.history['accuracy'], color='teal', label='accuracy')\n",
    "plt.plot(hist.history['val_accuracy'], color='orange', label='val_accuracy')\n",
    "fig.suptitle('Accuracy', fontsize=20)\n",
    "plt.legend(loc=\"upper left\")\n",
    "plt.show()"
   ]
  },
  {
   "cell_type": "raw",
   "id": "eb37b4a8-4bd8-41f6-a6d7-c05118df8555",
   "metadata": {},
   "source": [
    "9. Evaluate"
   ]
  },
  {
   "cell_type": "code",
   "execution_count": null,
   "id": "1237c73a-2bb4-4162-baa3-397788092c19",
   "metadata": {},
   "outputs": [],
   "source": [
    "from tensorflow.keras.metrics import Precision, Recall, BinaryAccuracy"
   ]
  },
  {
   "cell_type": "code",
   "execution_count": null,
   "id": "66777b70-a2c2-44ac-850f-12775105cbea",
   "metadata": {},
   "outputs": [],
   "source": [
    "pre = Precision()\n",
    "re = Recall()\n",
    "acc = BinaryAccuracy()"
   ]
  },
  {
   "cell_type": "code",
   "execution_count": null,
   "id": "fa1464f2-a68f-4afd-bdcd-11d7b674d5fe",
   "metadata": {},
   "outputs": [],
   "source": [
    "for batch in test.as_numpy_iterator(): \n",
    "    X, y = batch\n",
    "    yhat = model.predict(X)\n",
    "    pre.update_state(y, yhat)\n",
    "    re.update_state(y, yhat)\n",
    "    acc.update_state(y, yhat)"
   ]
  },
  {
   "cell_type": "code",
   "execution_count": null,
   "id": "e9530996-7f69-476d-8020-955609aa1ab3",
   "metadata": {},
   "outputs": [],
   "source": [
    "print(f'Precision:{pre.result().numpy()}, Recall:{re.result().numpy()}, Accuracy:{acc.result().numpy()}')"
   ]
  },
  {
   "cell_type": "raw",
   "id": "a4a7a735-c672-4824-9bc4-c21f1e0fa3ff",
   "metadata": {},
   "source": [
    "10. Test"
   ]
  },
  {
   "cell_type": "code",
   "execution_count": null,
   "id": "4c090477-c297-4c0d-8d93-a23b0459adeb",
   "metadata": {},
   "outputs": [],
   "source": [
    "import cv2"
   ]
  },
  {
   "cell_type": "code",
   "execution_count": null,
   "id": "c5f183aa-4222-4979-92af-049720b03612",
   "metadata": {},
   "outputs": [],
   "source": [
    "img = cv2.imread('Normal test 1 (10).png')\n",
    "plt.imshow(img)\n",
    "plt.show()"
   ]
  },
  {
   "cell_type": "code",
   "execution_count": null,
   "id": "38fbf719-29a1-4fc4-a21e-dc70ea364f19",
   "metadata": {},
   "outputs": [],
   "source": [
    "resize = tf.image.resize(img, (256,256))\n",
    "plt.imshow(resize.numpy().astype(int))\n",
    "plt.show()"
   ]
  },
  {
   "cell_type": "code",
   "execution_count": null,
   "id": "100f5d3c-b404-40f0-a5f8-2b1a2ee471a9",
   "metadata": {},
   "outputs": [],
   "source": [
    "yhat = model.predict(np.expand_dims(resize/255, 0))"
   ]
  },
  {
   "cell_type": "code",
   "execution_count": null,
   "id": "952c5bab-7ec9-4db9-b19a-d7472d1c806e",
   "metadata": {},
   "outputs": [],
   "source": [
    "yhat"
   ]
  },
  {
   "cell_type": "code",
   "execution_count": null,
   "id": "93d66918-eeb4-4acb-b194-98f54bb9bdca",
   "metadata": {
    "tags": []
   },
   "outputs": [],
   "source": [
    "if yhat > 0.5: \n",
    "    print(f'Predicted class is Normal')\n",
    "else:\n",
    "    print(f'Predicted class is Malignant')"
   ]
  },
  {
   "cell_type": "raw",
   "id": "92da95a3-e4a2-49ce-911f-2d1702dcdaf8",
   "metadata": {},
   "source": [
    "11.Evaluate Precision, Recall, and F1 Score"
   ]
  },
  {
   "cell_type": "code",
   "execution_count": null,
   "id": "36d4617a-b77e-4925-888b-be51e7a638f8",
   "metadata": {},
   "outputs": [],
   "source": [
    "from sklearn.metrics import precision_score, recall_score, f1_score\n",
    "\n",
    "pre = Precision()\n",
    "re = Recall()\n",
    "acc = BinaryAccuracy()\n",
    "\n",
    "for batch in test.as_numpy_iterator():\n",
    "    X, y = batch\n",
    "    yhat = model.predict(X)\n",
    "    pre.update_state(y, yhat)\n",
    "    re.update_state(y, yhat)\n",
    "    acc.update_state(y, yhat)\n",
    "\n",
    "print(f'Precision: {pre.result().numpy()}')\n",
    "print(f'Recall: {re.result().numpy()}')\n",
    "print(f'Accuracy: {acc.result().numpy()}')\n",
    "\n",
    "# Additional Evaluation using sklearn\n",
    "# Flatten the arrays to compare each pixel/element\n",
    "y_pred = np.concatenate([model.predict(batch[0]) for batch in test], axis=0)\n",
    "y_true = np.concatenate([batch[1] for batch in test], axis=0)\n",
    "\n",
    "# Binarize predictions\n",
    "y_pred_binary = (y_pred > 0.5).astype(int)\n",
    "\n",
    "# Calculate metrics\n",
    "precision = precision_score(y_true, y_pred_binary)\n",
    "recall = recall_score(y_true, y_pred_binary)\n",
    "f1 = f1_score(y_true, y_pred_binary)\n",
    "\n",
    "print(f'Sklearn Precision: {precision}')\n",
    "print(f'Sklearn Recall: {recall}')\n",
    "print(f'Sklearn F1 Score: {f1}')\n",
    "\n",
    "metrics_history = {'precision': [], 'recall': [], 'f1': []}\n",
    "\n",
    "for epoch in range(10):  # or however many iterations you want\n",
    "    #... (rest of the code remains the same)\n",
    "\n",
    "    # Calculate metrics\n",
    "    precision = precision_score(y_true, y_pred_binary)\n",
    "    recall = recall_score(y_true, y_pred_binary)\n",
    "    f1 = f1_score(y_true, y_pred_binary)\n",
    "\n",
    "    metrics_history['precision'].append(precision)\n",
    "    metrics_history['recall'].append(recall)\n",
    "    metrics_history['f1'].append(f1)\n",
    "\n",
    "    print(f'Epoch {epoch+1}, Precision: {precision:.4f}, Recall: {recall:.4f}, F1 Score: {f1:.4f}')\n",
    "\n",
    "# Visualize metrics\n",
    "fig, ax = plt.subplots(1, 3, figsize=(15, 5))\n",
    "\n",
    "ax[0].plot(metrics_history['precision'])\n",
    "ax[0].set_title('Precision Over Time')\n",
    "ax[0].set_xlabel('Epoch')\n",
    "ax[0].set_ylabel('Value')\n",
    "ax[0].set_ylim([0, 1])\n",
    "\n",
    "ax[1].plot(metrics_history['recall'])\n",
    "ax[1].set_title('Recall Over Time')\n",
    "ax[1].set_xlabel('Epoch')\n",
    "ax[1].set_ylabel('Value')\n",
    "ax[1].set_ylim([0, 1])\n",
    "\n",
    "ax[2].plot(metrics_history['f1'])\n",
    "ax[2].set_title('F1 Score Over Time')\n",
    "ax[2].set_xlabel('Epoch')\n",
    "ax[2].set_ylabel('Value')\n",
    "ax[2].set_ylim([0, 1])\n",
    "\n",
    "plt.show()"
   ]
  },
  {
   "cell_type": "code",
   "execution_count": null,
   "id": "5fae6431-eda7-4321-a632-9d565a9ae13b",
   "metadata": {},
   "outputs": [],
   "source": [
    "import matplotlib.pyplot as plt\n",
    "\n",
    "#... (rest of the code remains the same)\n",
    "\n",
    "# Calculate metrics\n",
    "precision = precision_score(y_true, y_pred_binary)\n",
    "recall = recall_score(y_true, y_pred_binary)\n",
    "f1 = f1_score(y_true, y_pred_binary)\n",
    "\n",
    "print(f'Sklearn Precision: {precision}')\n",
    "print(f'Sklearn Recall: {recall}')\n",
    "print(f'Sklearn F1 Score: {f1}')\n",
    "\n",
    "# Visualize metrics\n",
    "fig, ax = plt.subplots(1, 3, figsize=(15, 5))\n",
    "\n",
    "ax[0].bar(['Precision'], [precision])\n",
    "ax[0].set_title('Precision')\n",
    "ax[0].set_ylabel('Value')\n",
    "ax[0].set_ylim([0, 1])\n",
    "\n",
    "ax[1].bar(['Recall'], [recall])\n",
    "ax[1].set_title('Recall')\n",
    "ax[1].set_ylabel('Value')\n",
    "ax[1].set_ylim([0, 1])\n",
    "\n",
    "ax[2].bar(['F1 Score'], [f1])\n",
    "ax[2].set_title('F1 Score')\n",
    "ax[2].set_ylabel('Value')\n",
    "ax[2].set_ylim([0, 1])\n",
    "\n",
    "plt.show()"
   ]
  },
  {
   "cell_type": "raw",
   "id": "06329f86-5c1a-4117-bc83-a85e8eb29ee8",
   "metadata": {},
   "source": [
    "11. Save the Model"
   ]
  },
  {
   "cell_type": "code",
   "execution_count": null,
   "id": "b75db9a7-55e9-4f9f-a72e-b20c2111ffb6",
   "metadata": {},
   "outputs": [],
   "source": [
    "from tensorflow.keras.models import load_model"
   ]
  },
  {
   "cell_type": "code",
   "execution_count": null,
   "id": "b2c54876-b93f-4925-8ac4-654ea988ed77",
   "metadata": {},
   "outputs": [],
   "source": [
    "model.save(os.path.join('models','imageclassifier.h5'))"
   ]
  },
  {
   "cell_type": "code",
   "execution_count": null,
   "id": "04f20929-dd5a-4ace-b6a3-fb1354514a0b",
   "metadata": {
    "tags": []
   },
   "outputs": [],
   "source": [
    "new_model = load_model('imageclassifier.h5')"
   ]
  },
  {
   "cell_type": "code",
   "execution_count": null,
   "id": "a86768f0-6196-496f-83ef-55cefe096598",
   "metadata": {
    "tags": []
   },
   "outputs": [],
   "source": [
    "new_model.predict(np.expand_dims(resize/255, 0))"
   ]
  },
  {
   "cell_type": "code",
   "execution_count": null,
   "id": "aa6b19b9-1465-4839-863a-8b6775bae1c2",
   "metadata": {},
   "outputs": [],
   "source": []
  }
 ],
 "metadata": {
  "kernelspec": {
   "display_name": "Python 3 (ipykernel)",
   "language": "python",
   "name": "python3"
  },
  "language_info": {
   "codemirror_mode": {
    "name": "ipython",
    "version": 3
   },
   "file_extension": ".py",
   "mimetype": "text/x-python",
   "name": "python",
   "nbconvert_exporter": "python",
   "pygments_lexer": "ipython3",
   "version": "3.9.13"
  }
 },
 "nbformat": 4,
 "nbformat_minor": 5
}
